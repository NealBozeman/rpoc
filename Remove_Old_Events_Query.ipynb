{
 "cells": [
  {
   "cell_type": "markdown",
   "metadata": {},
   "source": [
    "## How this works\n",
    "\n",
    "1. We define an update_by_query to update the documents by removing actions whose timestamps are older than the provided input date\n",
    "2. We verify this with a query request using a `range: lte: $date` to see that all the returned timestamps are in fact greater than \n"
   ]
  },
  {
   "cell_type": "code",
   "execution_count": 41,
   "metadata": {},
   "outputs": [
    {
     "name": "stdout",
     "output_type": "stream",
     "text": [
      "Stored 'url' (str)\n",
      "Stored 'headers' (dict)\n"
     ]
    }
   ],
   "source": [
    "# We will define some persistent variables that we will use everywhere over here. Always run this script first\n",
    "\n",
    "# you may want to update the value below to something like 'http://localhost:9200/search_recommendations' for testing locally\n",
    "url = 'http://localhost:9200/events'\n",
    "\n",
    "headers = {\n",
    "    'Content-Type': 'application/json'\n",
    "}\n",
    "%store url\n",
    "%store headers"
   ]
  },
  {
   "cell_type": "code",
   "execution_count": 37,
   "metadata": {},
   "outputs": [
    {
     "name": "stdout",
     "output_type": "stream",
     "text": [
      "timestamp is:  1591727400000\n",
      "{\n",
      "  \"took\": 37,\n",
      "  \"timed_out\": false,\n",
      "  \"total\": 5,\n",
      "  \"updated\": 5,\n",
      "  \"deleted\": 0,\n",
      "  \"batches\": 1,\n",
      "  \"version_conflicts\": 0,\n",
      "  \"noops\": 0,\n",
      "  \"retries\": {\n",
      "    \"bulk\": 0,\n",
      "    \"search\": 0\n",
      "  },\n",
      "  \"throttled_millis\": 0,\n",
      "  \"requests_per_second\": -1.0,\n",
      "  \"throttled_until_millis\": 0,\n",
      "  \"failures\": []\n",
      "}\n"
     ]
    }
   ],
   "source": [
    "# We will define an update_by_query clause that will delete all the events prior to a provided timestamp\n",
    "\n",
    "import datetime\n",
    "import time\n",
    "import requests\n",
    "import json\n",
    "\n",
    "\n",
    "#input\n",
    "date=datetime.date(2020,6,10)\n",
    "actions=['view', 'buy', 'returned']\n",
    "\n",
    "timestamp=int(time.mktime(date.timetuple())*1000)\n",
    "print(\"timestamp is: \", timestamp)\n",
    "queryArray = []\n",
    "for action in actions:\n",
    "    q = {\n",
    "        \"range\": {\n",
    "            f\"{action}.timestamp\": {\n",
    "                \"lte\": timestamp\n",
    "            }\n",
    "        }\n",
    "    }\n",
    "    queryArray.append(q)\n",
    "\n",
    "script_literal = '''\n",
    "    for (action in params.actions) {\n",
    "        List found = new ArrayList();\n",
    "        for (item in ctx._source[action]) {\n",
    "            if (item.timestamp < params.timestamp) {\n",
    "                found.add(item);\n",
    "            }\n",
    "        }\n",
    "        ctx._source[action].removeAll(found);\n",
    "    }\n",
    "'''\n",
    "query = {\n",
    "    \"query\": {\n",
    "        \"bool\": {\n",
    "            \"should\": queryArray\n",
    "        }\n",
    "    },\n",
    "    \"script\": {\n",
    "        \"source\": \" \".join(script_literal.splitlines()),\n",
    "        \"lang\": \"painless\",\n",
    "        \"params\": {\n",
    "            \"actions\": actions,\n",
    "            \"timestamp\": timestamp\n",
    "        }\n",
    "    }\n",
    "}\n",
    "\n",
    "response = requests.request(\"POST\", url + '/_update_by_query', headers=headers, data=json.dumps(query))\n",
    "print(json.dumps(response.json(), indent=2))\n"
   ]
  },
  {
   "cell_type": "code",
   "execution_count": 40,
   "metadata": {},
   "outputs": [
    {
     "name": "stdout",
     "output_type": "stream",
     "text": [
      "{\n",
      "  \"took\": 2,\n",
      "  \"timed_out\": false,\n",
      "  \"_shards\": {\n",
      "    \"total\": 1,\n",
      "    \"successful\": 1,\n",
      "    \"skipped\": 0,\n",
      "    \"failed\": 0\n",
      "  },\n",
      "  \"hits\": {\n",
      "    \"total\": {\n",
      "      \"value\": 0,\n",
      "      \"relation\": \"eq\"\n",
      "    },\n",
      "    \"max_score\": null,\n",
      "    \"hits\": []\n",
      "  }\n",
      "}\n"
     ]
    }
   ],
   "source": [
    "# This is a verification query and should have the same date input. If the above query is successful, this should return no hits.\n",
    "\n",
    "import datetime\n",
    "import time\n",
    "import requests\n",
    "import json\n",
    "\n",
    "\n",
    "#input\n",
    "date=datetime.date(2020,6,10)\n",
    "actions=['view', 'buy', 'returned']\n",
    "\n",
    "timestamp=int(time.mktime(date.timetuple())*1000)\n",
    "\n",
    "queryArray = []\n",
    "for action in actions:\n",
    "    q = {\n",
    "        \"range\": {\n",
    "            f\"{action}.timestamp\": {\n",
    "                \"lt\": timestamp\n",
    "            }\n",
    "        }\n",
    "    }\n",
    "    queryArray.append(q)\n",
    "\n",
    "query = {\n",
    "    \"query\": {\n",
    "        \"bool\": {\n",
    "            \"should\": queryArray\n",
    "        }\n",
    "    }\n",
    "}\n",
    "\n",
    "response = requests.request(\"GET\", url + '/_search', headers=headers, data=json.dumps(query))\n",
    "print(json.dumps(response.json(), indent=2))\n"
   ]
  },
  {
   "cell_type": "code",
   "execution_count": null,
   "metadata": {},
   "outputs": [],
   "source": []
  }
 ],
 "metadata": {
  "kernelspec": {
   "display_name": "Python 3",
   "language": "python",
   "name": "python3"
  },
  "language_info": {
   "codemirror_mode": {
    "name": "ipython",
    "version": 3
   },
   "file_extension": ".py",
   "mimetype": "text/x-python",
   "name": "python",
   "nbconvert_exporter": "python",
   "pygments_lexer": "ipython3",
   "version": "3.6.10"
  }
 },
 "nbformat": 4,
 "nbformat_minor": 4
}
